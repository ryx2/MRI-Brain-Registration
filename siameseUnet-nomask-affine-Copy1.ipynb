{
 "cells": [
  {
   "cell_type": "code",
   "execution_count": 1,
   "metadata": {},
   "outputs": [],
   "source": [
    "saveNames='siameseUnet-nomask-affine'"
   ]
  },
  {
   "cell_type": "code",
   "execution_count": 2,
   "metadata": {},
   "outputs": [],
   "source": [
    "import os\n",
    "os.environ[\"CUDA_DEVICE_ORDER\"]=\"PCI_BUS_ID\"\n",
    "os.environ[\"CUDA_VISIBLE_DEVICES\"]= \"0,1,2,3\" #change to the number of gpu's you want\n",
    "# os.environ[\"CUDA_VISIBLE_DEVICES\"]= \"4,5,6,7\" #change to the number of gpu's you want"
   ]
  },
  {
   "cell_type": "code",
   "execution_count": 3,
   "metadata": {},
   "outputs": [
    {
     "name": "stderr",
     "output_type": "stream",
     "text": [
      "Using TensorFlow backend.\n"
     ]
    }
   ],
   "source": [
    "import keras"
   ]
  },
  {
   "cell_type": "code",
   "execution_count": 4,
   "metadata": {},
   "outputs": [],
   "source": [
    "import pickle"
   ]
  },
  {
   "cell_type": "code",
   "execution_count": 5,
   "metadata": {},
   "outputs": [],
   "source": [
    "from keras import backend as K\n",
    "K.set_image_dim_ordering('th')"
   ]
  },
  {
   "cell_type": "code",
   "execution_count": 6,
   "metadata": {},
   "outputs": [],
   "source": [
    "from keras.models import Sequential, Model\n",
    "from keras.layers import Dense, Dropout, Flatten, Input, Flatten, Activation, Subtract, Multiply\n",
    "from keras.layers import Conv3D, MaxPooling3D, Dropout, Concatenate, Dense, AveragePooling3D, AveragePooling2D, BatchNormalization, UpSampling3D, GlobalAveragePooling2D, GlobalAveragePooling3D\n",
    "from keras.layers import Lambda, Reshape\n",
    "from keras import regularizers\n",
    "import nibabel as nib\n",
    "from pathlib import Path #req python 3.4\n",
    "import scipy.misc\n",
    "import os.path\n",
    "from tqdm import tqdm\n",
    "from scipy.ndimage import affine_transform\n",
    "import numpy\n",
    "%matplotlib inline\n",
    "\n",
    "import matplotlib\n",
    "import matplotlib.pyplot as plt\n",
    "import sys\n",
    "import math"
   ]
  },
  {
   "cell_type": "code",
   "execution_count": 7,
   "metadata": {},
   "outputs": [
    {
     "name": "stdout",
     "output_type": "stream",
     "text": [
      "__________________________________________________________________________________________________\n",
      "Layer (type)                    Output Shape         Param #     Connected to                     \n",
      "==================================================================================================\n",
      "input_1 (InputLayer)            (None, 1, 64, 64, 64 0                                            \n",
      "__________________________________________________________________________________________________\n",
      "input_2 (InputLayer)            (None, 1, 64, 64, 64 0                                            \n",
      "__________________________________________________________________________________________________\n",
      "conv3d_1 (Conv3D)               (None, 16, 64, 64, 6 448         input_1[0][0]                    \n",
      "                                                                 input_2[0][0]                    \n",
      "__________________________________________________________________________________________________\n",
      "batch_normalization_1 (BatchNor (None, 16, 64, 64, 6 256         conv3d_1[0][0]                   \n",
      "__________________________________________________________________________________________________\n",
      "batch_normalization_5 (BatchNor (None, 16, 64, 64, 6 256         conv3d_1[1][0]                   \n",
      "__________________________________________________________________________________________________\n",
      "activation_1 (Activation)       (None, 16, 64, 64, 6 0           batch_normalization_1[0][0]      \n",
      "__________________________________________________________________________________________________\n",
      "activation_5 (Activation)       (None, 16, 64, 64, 6 0           batch_normalization_5[0][0]      \n",
      "__________________________________________________________________________________________________\n",
      "conv3d_2 (Conv3D)               (None, 16, 64, 64, 6 6928        activation_1[0][0]               \n",
      "                                                                 activation_5[0][0]               \n",
      "__________________________________________________________________________________________________\n",
      "batch_normalization_2 (BatchNor (None, 16, 64, 64, 6 256         conv3d_2[0][0]                   \n",
      "__________________________________________________________________________________________________\n",
      "batch_normalization_6 (BatchNor (None, 16, 64, 64, 6 256         conv3d_2[1][0]                   \n",
      "__________________________________________________________________________________________________\n",
      "activation_2 (Activation)       (None, 16, 64, 64, 6 0           batch_normalization_2[0][0]      \n",
      "__________________________________________________________________________________________________\n",
      "activation_6 (Activation)       (None, 16, 64, 64, 6 0           batch_normalization_6[0][0]      \n",
      "__________________________________________________________________________________________________\n",
      "conv3d_3 (Conv3D)               (None, 16, 64, 64, 6 6928        activation_2[0][0]               \n",
      "                                                                 activation_6[0][0]               \n",
      "__________________________________________________________________________________________________\n",
      "batch_normalization_3 (BatchNor (None, 16, 64, 64, 6 256         conv3d_3[0][0]                   \n",
      "__________________________________________________________________________________________________\n",
      "batch_normalization_7 (BatchNor (None, 16, 64, 64, 6 256         conv3d_3[1][0]                   \n",
      "__________________________________________________________________________________________________\n",
      "activation_3 (Activation)       (None, 16, 64, 64, 6 0           batch_normalization_3[0][0]      \n",
      "__________________________________________________________________________________________________\n",
      "activation_7 (Activation)       (None, 16, 64, 64, 6 0           batch_normalization_7[0][0]      \n",
      "__________________________________________________________________________________________________\n",
      "conv3d_4 (Conv3D)               (None, 16, 64, 64, 6 6928        activation_3[0][0]               \n",
      "                                                                 activation_7[0][0]               \n",
      "__________________________________________________________________________________________________\n",
      "batch_normalization_4 (BatchNor (None, 16, 64, 64, 6 256         conv3d_4[0][0]                   \n",
      "__________________________________________________________________________________________________\n",
      "batch_normalization_8 (BatchNor (None, 16, 64, 64, 6 256         conv3d_4[1][0]                   \n",
      "__________________________________________________________________________________________________\n",
      "activation_4 (Activation)       (None, 16, 64, 64, 6 0           batch_normalization_4[0][0]      \n",
      "__________________________________________________________________________________________________\n",
      "activation_8 (Activation)       (None, 16, 64, 64, 6 0           batch_normalization_8[0][0]      \n",
      "__________________________________________________________________________________________________\n",
      "concatenate_1 (Concatenate)     (None, 32, 64, 64, 6 0           activation_4[0][0]               \n",
      "                                                                 activation_8[0][0]               \n",
      "__________________________________________________________________________________________________\n",
      "conv3d_5 (Conv3D)               (None, 16, 64, 64, 6 13840       concatenate_1[0][0]              \n",
      "__________________________________________________________________________________________________\n",
      "batch_normalization_9 (BatchNor (None, 16, 64, 64, 6 256         conv3d_5[0][0]                   \n",
      "__________________________________________________________________________________________________\n",
      "activation_9 (Activation)       (None, 16, 64, 64, 6 0           batch_normalization_9[0][0]      \n",
      "__________________________________________________________________________________________________\n",
      "max_pooling3d_1 (MaxPooling3D)  (None, 16, 32, 32, 3 0           activation_9[0][0]               \n",
      "__________________________________________________________________________________________________\n",
      "conv3d_6 (Conv3D)               (None, 32, 32, 32, 3 13856       max_pooling3d_1[0][0]            \n",
      "__________________________________________________________________________________________________\n",
      "batch_normalization_10 (BatchNo (None, 32, 32, 32, 3 128         conv3d_6[0][0]                   \n",
      "__________________________________________________________________________________________________\n",
      "activation_10 (Activation)      (None, 32, 32, 32, 3 0           batch_normalization_10[0][0]     \n",
      "__________________________________________________________________________________________________\n",
      "max_pooling3d_2 (MaxPooling3D)  (None, 32, 16, 16, 1 0           activation_10[0][0]              \n",
      "__________________________________________________________________________________________________\n",
      "conv3d_7 (Conv3D)               (None, 32, 16, 16, 1 27680       max_pooling3d_2[0][0]            \n",
      "__________________________________________________________________________________________________\n",
      "batch_normalization_11 (BatchNo (None, 32, 16, 16, 1 64          conv3d_7[0][0]                   \n",
      "__________________________________________________________________________________________________\n",
      "activation_11 (Activation)      (None, 32, 16, 16, 1 0           batch_normalization_11[0][0]     \n",
      "__________________________________________________________________________________________________\n",
      "max_pooling3d_3 (MaxPooling3D)  (None, 32, 8, 8, 8)  0           activation_11[0][0]              \n",
      "__________________________________________________________________________________________________\n",
      "conv3d_8 (Conv3D)               (None, 32, 8, 8, 8)  27680       max_pooling3d_3[0][0]            \n",
      "__________________________________________________________________________________________________\n",
      "batch_normalization_12 (BatchNo (None, 32, 8, 8, 8)  32          conv3d_8[0][0]                   \n",
      "__________________________________________________________________________________________________\n",
      "activation_12 (Activation)      (None, 32, 8, 8, 8)  0           batch_normalization_12[0][0]     \n",
      "__________________________________________________________________________________________________\n",
      "max_pooling3d_4 (MaxPooling3D)  (None, 32, 4, 4, 4)  0           activation_12[0][0]              \n",
      "__________________________________________________________________________________________________\n",
      "conv3d_9 (Conv3D)               (None, 32, 4, 4, 4)  27680       max_pooling3d_4[0][0]            \n",
      "__________________________________________________________________________________________________\n",
      "batch_normalization_13 (BatchNo (None, 32, 4, 4, 4)  16          conv3d_9[0][0]                   \n",
      "__________________________________________________________________________________________________\n",
      "up_sampling3d_1 (UpSampling3D)  (None, 32, 8, 8, 8)  0           batch_normalization_13[0][0]     \n",
      "__________________________________________________________________________________________________\n",
      "concatenate_2 (Concatenate)     (None, 64, 8, 8, 8)  0           up_sampling3d_1[0][0]            \n",
      "                                                                 activation_12[0][0]              \n",
      "__________________________________________________________________________________________________\n",
      "conv3d_10 (Conv3D)              (None, 32, 8, 8, 8)  55328       concatenate_2[0][0]              \n",
      "__________________________________________________________________________________________________\n",
      "batch_normalization_14 (BatchNo (None, 32, 8, 8, 8)  32          conv3d_10[0][0]                  \n",
      "__________________________________________________________________________________________________\n",
      "up_sampling3d_2 (UpSampling3D)  (None, 32, 16, 16, 1 0           batch_normalization_14[0][0]     \n",
      "__________________________________________________________________________________________________\n",
      "concatenate_3 (Concatenate)     (None, 64, 16, 16, 1 0           up_sampling3d_2[0][0]            \n",
      "                                                                 activation_11[0][0]              \n",
      "__________________________________________________________________________________________________\n",
      "conv3d_11 (Conv3D)              (None, 32, 16, 16, 1 55328       concatenate_3[0][0]              \n",
      "__________________________________________________________________________________________________\n",
      "batch_normalization_15 (BatchNo (None, 32, 16, 16, 1 64          conv3d_11[0][0]                  \n",
      "__________________________________________________________________________________________________\n",
      "up_sampling3d_3 (UpSampling3D)  (None, 32, 32, 32, 3 0           batch_normalization_15[0][0]     \n",
      "__________________________________________________________________________________________________\n",
      "concatenate_4 (Concatenate)     (None, 64, 32, 32, 3 0           up_sampling3d_3[0][0]            \n",
      "                                                                 activation_10[0][0]              \n",
      "__________________________________________________________________________________________________\n",
      "conv3d_12 (Conv3D)              (None, 32, 32, 32, 3 55328       concatenate_4[0][0]              \n",
      "__________________________________________________________________________________________________\n",
      "batch_normalization_16 (BatchNo (None, 32, 32, 32, 3 128         conv3d_12[0][0]                  \n",
      "__________________________________________________________________________________________________\n",
      "up_sampling3d_4 (UpSampling3D)  (None, 32, 64, 64, 6 0           batch_normalization_16[0][0]     \n",
      "__________________________________________________________________________________________________\n",
      "concatenate_5 (Concatenate)     (None, 48, 64, 64, 6 0           up_sampling3d_4[0][0]            \n",
      "                                                                 activation_9[0][0]               \n",
      "__________________________________________________________________________________________________\n",
      "conv3d_13 (Conv3D)              (None, 32, 64, 64, 6 41504       concatenate_5[0][0]              \n",
      "__________________________________________________________________________________________________\n",
      "batch_normalization_17 (BatchNo (None, 32, 64, 64, 6 256         conv3d_13[0][0]                  \n",
      "__________________________________________________________________________________________________\n",
      "conv3d_14 (Conv3D)              (None, 32, 64, 64, 6 27680       batch_normalization_17[0][0]     \n",
      "__________________________________________________________________________________________________\n",
      "conv3d_16 (Conv3D)              (None, 12, 64, 64, 6 384         conv3d_14[0][0]                  \n",
      "__________________________________________________________________________________________________\n",
      "global_average_pooling3d_1 (Glo (None, 12)           0           conv3d_16[0][0]                  \n",
      "==================================================================================================\n",
      "Total params: 370,544\n",
      "Trainable params: 369,032\n",
      "Non-trainable params: 1,512\n",
      "__________________________________________________________________________________________________\n"
     ]
    }
   ],
   "source": [
    "#https://stackoverflow.com/questions/44810826/how-to-share-convolution-kernels-between-layers-in-keras\n",
    "\n",
    "i1=Input(shape=(1,64,64,64)) #tgt\n",
    "i2=Input(shape=(1,64,64,64)) #src\n",
    "\n",
    "s1= Conv3D(16, 3 ,padding='same')#second conv \n",
    "s2= Conv3D(16, 3 ,padding='same')#second conv \n",
    "s3= Conv3D(16, 3 ,padding='same')#second conv \n",
    "s4= Conv3D(16, 3 ,padding='same')#second conv \n",
    "#these 2 are layer 1\n",
    "d1= Conv3D(16, 3,padding='same')#first conv \n",
    "d2= Conv3D(32, 3 ,padding='same')#second conv \n",
    "d3= Conv3D(32, 3, padding='same')\n",
    "d4= Conv3D(32, 3, padding='same')\n",
    "d5= Conv3D(32, 3, padding='same')\n",
    "\n",
    "u1= Conv3D(32, 3, padding='same')\n",
    "u2= Conv3D(32, 3, padding='same')\n",
    "u3= Conv3D(32, 3, padding='same')\n",
    "u4= Conv3D(32, 3,padding='same')\n",
    "u5= Conv3D(32, 3,padding='same')\n",
    "u6= Conv3D(16, 3,padding='same')\n",
    "u7= Conv3D(12, 1,padding='same', use_bias=False)\n",
    "\n",
    "slay1=s1(i1)\n",
    "slay1=BatchNormalization()(slay1) #not enough memory to batchnorm\n",
    "slay1=Activation('relu')(slay1)\n",
    "slay1=s2(slay1)\n",
    "slay1=BatchNormalization()(slay1) #not enough memory to batchnorm\n",
    "slay1=Activation('relu')(slay1)\n",
    "slay1=s3(slay1)\n",
    "slay1=BatchNormalization()(slay1) #not enough memory to batchnorm\n",
    "slay1=Activation('relu')(slay1)\n",
    "slay1=s4(slay1)\n",
    "slay1=BatchNormalization()(slay1) #not enough memory to batchnorm\n",
    "slay1=Activation('relu')(slay1)\n",
    "\n",
    "slay2=s1(i2)\n",
    "slay2=BatchNormalization()(slay2) #not enough memory to batchnorm\n",
    "slay2=Activation('relu')(slay2)\n",
    "slay2=s2(slay2)\n",
    "slay2=BatchNormalization()(slay2) #not enough memory to batchnorm\n",
    "slay2=Activation('relu')(slay2)\n",
    "slay2=s3(slay2)\n",
    "slay2=BatchNormalization()(slay2) #not enough memory to batchnorm\n",
    "slay2=Activation('relu')(slay2)\n",
    "slay2=s4(slay2)\n",
    "slay2=BatchNormalization()(slay2) #not enough memory to batchnorm\n",
    "slay2=Activation('relu')(slay2)\n",
    "\n",
    "con=Concatenate(axis=1)([slay1,slay2]) \n",
    "d256=d1(con)\n",
    "d256=BatchNormalization()(d256) #not enough memory to batchnorm\n",
    "d256=Activation('relu')(d256)\n",
    "d128=MaxPooling3D(pool_size=(2,2,2))(d256)\n",
    "d128=d2(d128)\n",
    "d128=BatchNormalization()(d128)\n",
    "d128=Activation('relu')(d128)\n",
    "d64=MaxPooling3D(pool_size=(2,2,2))(d128)\n",
    "d64=d3(d64)\n",
    "d64=BatchNormalization()(d64)\n",
    "d64=Activation('relu')(d64)\n",
    "d32=MaxPooling3D(pool_size=(2,2,2))(d64)\n",
    "d32=d4(d32)\n",
    "d32=BatchNormalization()(d32)\n",
    "d32=Activation('relu')(d32)\n",
    "d16=MaxPooling3D(pool_size=(2,2,2))(d32)\n",
    "d16=d5(d16)\n",
    "d16=BatchNormalization()(d16)\n",
    "# d16=Activation('relu')(d16)\n",
    "#smallest layer ends here\n",
    "u32=UpSampling3D()(d16)\n",
    "u32=Concatenate(axis=1)([u32,d32]) \n",
    "u32=u1(u32)\n",
    "u32=BatchNormalization()(u32)\n",
    "# u32=Activation('relu')(u32)\n",
    "u64=UpSampling3D()(u32)\n",
    "u64=Concatenate(axis=1)([u64,d64]) \n",
    "u64=u2(u64)\n",
    "u64=BatchNormalization()(u64)\n",
    "# u64=Activation('relu')(u64)\n",
    "u128=UpSampling3D()(u64)\n",
    "u128=Concatenate(axis=1)([u128,d128]) \n",
    "u128=u3(u128)\n",
    "u128=BatchNormalization()(u128)\n",
    "# u128=Activation('relu')(u128)\n",
    "u256=UpSampling3D()(u128)\n",
    "u256=Concatenate(axis=1)([u256,d256]) \n",
    "u256=u4(u256)\n",
    "u256=BatchNormalization()(u256)\n",
    "# u256=Activation('relu')(u256)\n",
    "maskfeed=u5(u256)\n",
    "fout=u7(maskfeed)\n",
    "fout=GlobalAveragePooling3D()(fout)\n",
    "\n",
    "model=Model(inputs=[i1, i2],outputs=fout)\n",
    "# opt=keras.optimizers.Adam(lr=0.0001)\n",
    "# opt=keras.optimizers.Adam(lr=0.0005)\n",
    "opt=keras.optimizers.Adam(lr=0.001) #performs ok on the 3 layer->concat->2 layers of (conv->bn->relu)->dense, batch size 4\n",
    "# opt=keras.optimizers.Adam(lr=0.0005, beta_1=0.9, beta_2=0.999) #adam defaults to b1=0.9, b2=0.999\n",
    "# opt=keras.optimizers.Adam(lr=0.01) # 10x default learn rate\n",
    "# opt=keras.optimizers.Adadelta() # using the default hyperparams, this thing even after 1k brains of training, still predicts random warps\n",
    "model.compile(optimizer=opt,loss='mean_squared_error')\n",
    "model.summary()"
   ]
  },
  {
   "cell_type": "code",
   "execution_count": 8,
   "metadata": {},
   "outputs": [],
   "source": [
    "#validation test dataset:\n",
    "transforms = numpy.genfromtxt('rand_affine_transforms_small_5std_0mu_01std_0mu.csv', delimiter=',')\n",
    "i=0\n",
    "p = Path('/nfs01/data/FS_Slim/MCIC') #brains\n",
    "testDirectories = [x for x in p.iterdir() if x.is_dir()]\n",
    "vSize=4 #4 pairs of images\n",
    "inBatch=0\n",
    "testThestas=transforms[-(vSize):]\n",
    "nameString='saved_small_brains/MCIC-small-test-std5-mu0-64-'\n",
    "while inBatch<vSize:\n",
    "    fname1 = str(testDirectories[i])+'/mri/norm.mgz'\n",
    "    if os.path.isfile(fname1):\n",
    "        scan = numpy.array(nib.load(fname1).get_data())[::4,::4,::4]\n",
    "        if numpy.count_nonzero(scan)!=0: # make sure skull strip is not blank\n",
    "            inBatch+=1\n",
    "            #have i already transformed this before?\n",
    "            if os.path.isfile(nameString+str(inBatch)+'.npy'):\n",
    "                aScan=numpy.load(nameString+str(inBatch)+'.npy')\n",
    "            else:\n",
    "                warp=[transforms[i,0:3],transforms[i,4:7],testThestas[i,8:11]]\n",
    "                aScan=affine_transform(scan,warp, offset=testThestas[i,3:15:4])\n",
    "                aScan=numpy.expand_dims(numpy.expand_dims(aScan, axis=0), axis=0)\n",
    "                #we're gonna save the warp numpy 3d array to save some time later\n",
    "                numpy.save(nameString+str(inBatch),aScan)\n",
    "            if inBatch==1:\n",
    "                v2=aScan\n",
    "            else:\n",
    "                v2=numpy.append(v2,aScan,axis=0)\n",
    "            scan=numpy.expand_dims(numpy.expand_dims(scan, axis=0), axis=0)\n",
    "            if inBatch==1:\n",
    "                v1=scan\n",
    "            else:\n",
    "                v1=numpy.append(v1,scan, axis=0)\n",
    "    i+=1\n"
   ]
  },
  {
   "cell_type": "code",
   "execution_count": 20,
   "metadata": {},
   "outputs": [],
   "source": [
    "# generate random affine transforms\n",
    "import csv \n",
    "num=1000000\n",
    "mu, sigma = 1, 0.1 # diagonals of the affine transform\n",
    "d = numpy.random.normal(mu, sigma, 3*num) # 3 columns of 10k ##INCREASED\n",
    "mu, sigma = 5, 5 # offsets\n",
    "o = numpy.random.normal(mu, sigma, 3*num) # 3 columns of 10k ## STAYS THE SAME\n",
    "mu, sigma = 0, 0.1 # others\n",
    "others = numpy.random.normal(mu, sigma, 6*num) # 6 columns of 10k ##INCREASED\n",
    "with open('rand_affine_transforms_small_5std_5mu.csv','w',newline='') as csvfile:\n",
    "    writer = csv.writer(csvfile,delimiter = ',')\n",
    "    for row in range(num):\n",
    "        writer.writerow([d[row],others[row],others[row+num],o[row],others[row+2*num],d[row+num],others[row+3*num],o[row+num],others[row+4*num],others[row+5*num],d[row+2*num],o[row+2*num]])"
   ]
  },
  {
   "cell_type": "code",
   "execution_count": 11,
   "metadata": {},
   "outputs": [],
   "source": [
    "# generate random affine transforms\n",
    "import csv \n",
    "num=1000000\n",
    "mu, sigma = 1, 0.1 # diagonals of the affine transform\n",
    "d = numpy.random.normal(mu, sigma, 3*num) # 3 columns of 10k ##INCREASED\n",
    "mu, sigma = 0, 5 # offsets\n",
    "o = numpy.random.normal(mu, sigma, 3*num) # 3 columns of 10k ## STAYS THE SAME\n",
    "mu, sigma = 0, 0.1 # others\n",
    "others = numpy.random.normal(mu, sigma, 6*num) # 6 columns of 10k ##INCREASED\n",
    "with open('rand_affine_transforms_small_5std_0mu_01std_0mu.csv','w',newline='') as csvfile:\n",
    "    writer = csv.writer(csvfile,delimiter = ',')\n",
    "    for row in range(num):\n",
    "        writer.writerow([d[row],others[row],others[row+num],o[row],others[row+2*num],d[row+num],others[row+3*num],o[row+num],others[row+4*num],others[row+5*num],d[row+2*num],o[row+2*num]])"
   ]
  },
  {
   "cell_type": "code",
   "execution_count": 14,
   "metadata": {},
   "outputs": [
    {
     "data": {
      "text/plain": [
       "<matplotlib.image.AxesImage at 0x7feefc16a780>"
      ]
     },
     "execution_count": 14,
     "metadata": {},
     "output_type": "execute_result"
    },
    {
     "data": {
      "image/png": "[encoded data removed]",
      "text/plain": [
       "<matplotlib.figure.Figure at 0x7feefc24a518>"
      ]
     },
     "metadata": {},
     "output_type": "display_data"
    }
   ],
   "source": [
    "plt.imshow(bScan[0,0,32,...].astype('float')-bAffScan[0,0,32,...].astype('float'))"
   ]
  },
  {
   "cell_type": "code",
   "execution_count": 53,
   "metadata": {},
   "outputs": [
    {
     "ename": "KeyboardInterrupt",
     "evalue": "",
     "output_type": "error",
     "traceback": [
      "\u001b[0;31m---------------------------------------------------------------------------\u001b[0m",
      "\u001b[0;31mKeyboardInterrupt\u001b[0m                         Traceback (most recent call last)",
      "\u001b[0;32m<ipython-input-53-dbef69ef371f>\u001b[0m in \u001b[0;36m<module>\u001b[0;34m()\u001b[0m\n\u001b[1;32m      1\u001b[0m \u001b[0;31m#read in the transforms; this should only be 7 mB\u001b[0m\u001b[0;34m\u001b[0m\u001b[0;34m\u001b[0m\u001b[0m\n\u001b[1;32m      2\u001b[0m \u001b[0mwarpname\u001b[0m\u001b[0;34m=\u001b[0m\u001b[0;34m'rand_affine_transforms_small_5std_0mu_01std_0mu'\u001b[0m\u001b[0;34m\u001b[0m\u001b[0m\n\u001b[0;32m----> 3\u001b[0;31m \u001b[0mtransforms\u001b[0m \u001b[0;34m=\u001b[0m \u001b[0mnumpy\u001b[0m\u001b[0;34m.\u001b[0m\u001b[0mgenfromtxt\u001b[0m\u001b[0;34m(\u001b[0m\u001b[0mwarpname\u001b[0m\u001b[0;34m+\u001b[0m\u001b[0;34m'.csv'\u001b[0m\u001b[0;34m,\u001b[0m \u001b[0mdelimiter\u001b[0m\u001b[0;34m=\u001b[0m\u001b[0;34m','\u001b[0m\u001b[0;34m)\u001b[0m\u001b[0;34m\u001b[0m\u001b[0m\n\u001b[0m\u001b[1;32m      4\u001b[0m \u001b[0;31m#throw these pieces in a script.py to do real training\u001b[0m\u001b[0;34m\u001b[0m\u001b[0;34m\u001b[0m\u001b[0m\n\u001b[1;32m      5\u001b[0m \u001b[0;31m# epoch here will be defined as the abide dataset\u001b[0m\u001b[0;34m\u001b[0m\u001b[0;34m\u001b[0m\u001b[0m\n",
      "\u001b[0;32m/nfs01/shared_software/anaconda3/envs/py35/lib/python3.5/site-packages/numpy/lib/npyio.py\u001b[0m in \u001b[0;36mgenfromtxt\u001b[0;34m(fname, dtype, comments, delimiter, skip_header, skip_footer, converters, missing_values, filling_values, usecols, names, excludelist, deletechars, replace_space, autostrip, case_sensitive, defaultfmt, unpack, usemask, loose, invalid_raise, max_rows)\u001b[0m\n\u001b[1;32m   1798\u001b[0m     \u001b[0;31m# Parse each line\u001b[0m\u001b[0;34m\u001b[0m\u001b[0;34m\u001b[0m\u001b[0m\n\u001b[1;32m   1799\u001b[0m     \u001b[0;32mfor\u001b[0m \u001b[0;34m(\u001b[0m\u001b[0mi\u001b[0m\u001b[0;34m,\u001b[0m \u001b[0mline\u001b[0m\u001b[0;34m)\u001b[0m \u001b[0;32min\u001b[0m \u001b[0menumerate\u001b[0m\u001b[0;34m(\u001b[0m\u001b[0mitertools\u001b[0m\u001b[0;34m.\u001b[0m\u001b[0mchain\u001b[0m\u001b[0;34m(\u001b[0m\u001b[0;34m[\u001b[0m\u001b[0mfirst_line\u001b[0m\u001b[0;34m,\u001b[0m \u001b[0;34m]\u001b[0m\u001b[0;34m,\u001b[0m \u001b[0mfhd\u001b[0m\u001b[0;34m)\u001b[0m\u001b[0;34m)\u001b[0m\u001b[0;34m:\u001b[0m\u001b[0;34m\u001b[0m\u001b[0m\n\u001b[0;32m-> 1800\u001b[0;31m         \u001b[0mvalues\u001b[0m \u001b[0;34m=\u001b[0m \u001b[0msplit_line\u001b[0m\u001b[0;34m(\u001b[0m\u001b[0mline\u001b[0m\u001b[0;34m)\u001b[0m\u001b[0;34m\u001b[0m\u001b[0m\n\u001b[0m\u001b[1;32m   1801\u001b[0m         \u001b[0mnbvalues\u001b[0m \u001b[0;34m=\u001b[0m \u001b[0mlen\u001b[0m\u001b[0;34m(\u001b[0m\u001b[0mvalues\u001b[0m\u001b[0;34m)\u001b[0m\u001b[0;34m\u001b[0m\u001b[0m\n\u001b[1;32m   1802\u001b[0m         \u001b[0;31m# Skip an empty line\u001b[0m\u001b[0;34m\u001b[0m\u001b[0;34m\u001b[0m\u001b[0m\n",
      "\u001b[0;32m/nfs01/shared_software/anaconda3/envs/py35/lib/python3.5/site-packages/numpy/lib/_iotools.py\u001b[0m in \u001b[0;36m_delimited_splitter\u001b[0;34m(self, line)\u001b[0m\n\u001b[1;32m    218\u001b[0m     \u001b[0;32mdef\u001b[0m \u001b[0m_delimited_splitter\u001b[0m\u001b[0;34m(\u001b[0m\u001b[0mself\u001b[0m\u001b[0;34m,\u001b[0m \u001b[0mline\u001b[0m\u001b[0;34m)\u001b[0m\u001b[0;34m:\u001b[0m\u001b[0;34m\u001b[0m\u001b[0m\n\u001b[1;32m    219\u001b[0m         \u001b[0;32mif\u001b[0m \u001b[0mself\u001b[0m\u001b[0;34m.\u001b[0m\u001b[0mcomments\u001b[0m \u001b[0;32mis\u001b[0m \u001b[0;32mnot\u001b[0m \u001b[0;32mNone\u001b[0m\u001b[0;34m:\u001b[0m\u001b[0;34m\u001b[0m\u001b[0m\n\u001b[0;32m--> 220\u001b[0;31m             \u001b[0mline\u001b[0m \u001b[0;34m=\u001b[0m \u001b[0mline\u001b[0m\u001b[0;34m.\u001b[0m\u001b[0msplit\u001b[0m\u001b[0;34m(\u001b[0m\u001b[0mself\u001b[0m\u001b[0;34m.\u001b[0m\u001b[0mcomments\u001b[0m\u001b[0;34m)\u001b[0m\u001b[0;34m[\u001b[0m\u001b[0;36m0\u001b[0m\u001b[0;34m]\u001b[0m\u001b[0;34m\u001b[0m\u001b[0m\n\u001b[0m\u001b[1;32m    221\u001b[0m         \u001b[0mline\u001b[0m \u001b[0;34m=\u001b[0m \u001b[0mline\u001b[0m\u001b[0;34m.\u001b[0m\u001b[0mstrip\u001b[0m\u001b[0;34m(\u001b[0m\u001b[0;34mb\" \\r\\n\"\u001b[0m\u001b[0;34m)\u001b[0m\u001b[0;34m\u001b[0m\u001b[0m\n\u001b[1;32m    222\u001b[0m         \u001b[0;32mif\u001b[0m \u001b[0;32mnot\u001b[0m \u001b[0mline\u001b[0m\u001b[0;34m:\u001b[0m\u001b[0;34m\u001b[0m\u001b[0m\n",
      "\u001b[0;31mKeyboardInterrupt\u001b[0m: "
     ]
    }
   ],
   "source": [
    "#read in the transforms; this should only be 7 mB\n",
    "warpname='rand_affine_transforms_small_5std_0mu_01std_0mu'\n",
    "transforms = numpy.genfromtxt(warpname+'.csv', delimiter=',') \n",
    "#throw these pieces in a script.py to do real training\n",
    "# epoch here will be defined as the abide dataset\n",
    "efilename='efile-'+saveNames+'.txt'\n",
    "pfilename='pfile-'+saveNames+'.txt'\n",
    "tfilename='tfile-'+saveNames+'.txt'\n",
    "predictionsPlot=[]\n",
    "truthsPlot=[]\n",
    "errorPlot=[]\n",
    "testErrors=[]\n",
    "batchSize=8\n",
    "tIndex=0\n",
    "# crop=[25:-25,25:-25,25:-25]\n",
    "#validation test dataset:\n",
    "p = Path('/nfs01/data/FS_Slim/MCIC') #brains\n",
    "testDirectories = [x for x in p.iterdir() if x.is_dir()]\n",
    "for epoch in tqdm(range(100)):\n",
    "    for dSet in range(3):\n",
    "        i=0\n",
    "        totalError=0\n",
    "        batchNum=0\n",
    "        numInBatch=0\n",
    "        if dSet==0: ##brains must be pulled out of saved_brains in this order otherwise the thetas will not be aligned\n",
    "            p = Path('/nfs01/data/FS_Slim/ABIDE') #brains\n",
    "            subdirectories = [x for x in p.iterdir() if x.is_dir()]\n",
    "            nameString='saved_small_brains/ABIDE-std5-mu0-64-'\n",
    "        if dSet==1:\n",
    "            p = Path('/nfs01/data/FS_Slim/ADHD200') \n",
    "            subdirectories = [x for x in p.iterdir() if x.is_dir()]\n",
    "            nameString='saved_small_brains/ADHD200-std5-mu0-64-'\n",
    "        if dSet==2:\n",
    "            p = Path('/nfs01/data/FS_Slim/PPMI') \n",
    "            subdirectories = [x for x in p.iterdir() if x.is_dir()]\n",
    "            nameString='saved_small_brains/PPMI-std5-mu0-64-'\n",
    "        while i < len(subdirectories):\n",
    "            fname1 = str(subdirectories[i])+'/mri/norm.mgz'\n",
    "            if os.path.isfile(fname1):\n",
    "                tIndex+=1\n",
    "                if os.path.isfile(nameString+str(tIndex)+'-normal'+'.npy'):\n",
    "                    scan=numpy.load(nameString+str(tIndex)+'-normal'+'.npy')\n",
    "                else:\n",
    "                    scan = numpy.array(nib.load(fname1).get_data())[::4,::4,::4]\n",
    "                if numpy.count_nonzero(scan)!=0: # make sure skull strip is not blank\n",
    "                    if not os.path.isfile(nameString+str(tIndex)+'-normal'+'.npy'):\n",
    "                        numpy.save(nameString+str(tIndex)+'-normal'+'.npy', scan)\n",
    "                    numInBatch+=1\n",
    "                    warp=[transforms[tIndex,0:3],transforms[tIndex,4:7],transforms[tIndex,8:11]]\n",
    "#                     warp=[[1,0,0],[0,1,0],[0,0,1]]\n",
    "                    offset = [transforms[tIndex,3],transforms[tIndex,7],transforms[tIndex,11]]\n",
    "                    match=False\n",
    "                    if os.path.isfile(nameString+'-'+warpname+'-'+str(tIndex)+'.npy'): #just translation\n",
    "                        affScan=numpy.load(nameString+'-'+warpname+'-'+str(tIndex)+'.npy')\n",
    "                    else:\n",
    "                        affScan=affine_transform(scan,warp,offset=offset)\n",
    "                        affScan=numpy.expand_dims(numpy.expand_dims(affScan, axis=0), axis=0)\n",
    "                        #we're gonna save the warp numpy 3d array to save some time later\n",
    "                        numpy.save(nameString+'-'+warpname+'-'+str(tIndex),affScan)\n",
    "                    ##now scale the offset down by 50 (how does this work in tensorflow??)\n",
    "                    scan=numpy.expand_dims(numpy.expand_dims(scan, axis=0), axis=0)\n",
    "#                     transforms[tIndex]*=[1,1,1,1/20,1,1,1,1/20,1,1,1,1/20]\n",
    "                    if numInBatch==1:\n",
    "                        bScan=scan\n",
    "                        bAffScan=affScan\n",
    "                        bTransforms=transforms[tIndex][numpy.newaxis]\n",
    "                    else:\n",
    "                        bScan=numpy.append(bScan,scan, axis=0)\n",
    "                        bAffScan=numpy.append(bAffScan,affScan, axis=0)\n",
    "                        bTransforms=numpy.append(bTransforms, transforms[tIndex][numpy.newaxis], axis=0)\n",
    "                    if numInBatch==batchSize:    \n",
    "                        batchNum+=1\n",
    "#                         print(bTransforms)\n",
    "#                         from IPython.core.debugger import Tracer\n",
    "#                         Tracer()() #this one triggers the debugger\n",
    "                        error=model.train_on_batch([bScan,bAffScan],bTransforms*[1,1,1,1/50,1,1,1,1/50,1,1,1,1/50]) # /50 cuz thats the ration btwn std of translation vs affine\n",
    "                        pred=model.predict([bScan,bAffScan])\n",
    "                        totalError+=error\n",
    "                        errorPlot.append(error)\n",
    "                        predictionsPlot.append(pred)\n",
    "                        truthsPlot.append(bTransforms)\n",
    "                        # now do some validation error: a different dataset...\n",
    "                        tErrors=model.test_on_batch([v1,v2],testThestas)\n",
    "                        testErrors.append(tErrors)\n",
    "                        print(('at batch num='+str(batchNum)+' error is: '+str(error)+', and validation error is '+str(tErrors)))\n",
    "                        if batchNum%10==0:\n",
    "                            printThetas=model.predict([v1,v2])\n",
    "                            printThetas*=[1,1,1,50,1,1,1,50,1,1,1,50]\n",
    "                            print(printThetas)\n",
    "                            print('dif is ' + str(numpy.sum(numpy.absolute(printThetas-testThestas))))\n",
    "                        sys.stdout.flush()\n",
    "                        numInBatch=0\n",
    "            i+=1\n",
    "    print(\"At epoch\"+str(epoch)+\", scalar error is: \"+str(totalError))\n",
    "    # serialize model to JSON\n",
    "#     model.save('model-'+saveNames+'.h5')\n",
    "    model.save_weights(\"model_weights\"+saveNames+\".h5\")\n",
    "    with open(efilename, 'wb') as f:\n",
    "        pickle.dump(errorPlot, f)\n",
    "    with open(pfilename, 'wb') as f:\n",
    "        pickle.dump(predictionsPlot, f)\n",
    "    with open(tfilename, 'wb') as f:\n",
    "        pickle.dump(truthsPlot, f)\n",
    "#         model_json = model.to_json()\n",
    "#         with open(\"adrian_copy_mean5std5.json\", \"w\") as json_file:\n",
    "#             json_file.write(model_json)\n",
    "    # serialize weights to HDF5\n",
    "#         model.save_weights(\"adrian_copy_mean5std5_weights.h5\")\n",
    "    print(\"Saved model to disk\")"
   ]
  },
  {
   "cell_type": "code",
   "execution_count": 12,
   "metadata": {},
   "outputs": [],
   "source": [
    "model.save_weights(\"model_weights\"+saveNames+\"-REPLACEEEEEEEEEEEEEEEEEEEEEEEepochs.h5\")"
   ]
  },
  {
   "cell_type": "code",
   "execution_count": 23,
   "metadata": {},
   "outputs": [],
   "source": [
    "efilename='efile-'+saveNames+'.txt'\n",
    "pfilename='pfile-'+saveNames+'.txt'\n",
    "tfilename='tfile-'+saveNames+'.txt'\n",
    "with open(efilename, 'rb') as f:\n",
    "    errorPlot=pickle.load(f)"
   ]
  },
  {
   "cell_type": "code",
   "execution_count": 5,
   "metadata": {},
   "outputs": [],
   "source": [
    "import numpy\n",
    "with open(pfilename, 'rb') as f:\n",
    "    pred=numpy.array(pickle.load(f))\n",
    "with open(tfilename, 'rb') as f:\n",
    "    tru=numpy.array(pickle.load(f))"
   ]
  },
  {
   "cell_type": "code",
   "execution_count": 42,
   "metadata": {},
   "outputs": [
    {
     "data": {
      "text/plain": [
       "(29120,)"
      ]
     },
     "execution_count": 42,
     "metadata": {},
     "output_type": "execute_result"
    }
   ],
   "source": [
    "tru[:,:,0].ravel().shape"
   ]
  },
  {
   "cell_type": "code",
   "execution_count": 21,
   "metadata": {},
   "outputs": [
    {
     "data": {
      "image/png": "[encoded data removed]",
      "text/plain": [
       "<matplotlib.figure.Figure at 0x7fb65536e860>"
      ]
     },
     "metadata": {},
     "output_type": "display_data"
    }
   ],
   "source": [
    "import matplotlib.pyplot as plt\n",
    "ind = 3\n",
    "indeces=numpy.arange(len(tru[-6:-1,:,ind].ravel()))\n",
    "if ind == 3 or ind ==7 or ind ==11:\n",
    "    plt.plot(indeces,tru[-6:-1,:,ind].ravel(),indeces,(pred[-6:-1,:,ind]*50).ravel())\n",
    "else:\n",
    "    plt.plot(indeces,tru[-6:-1,:,ind].ravel(),indeces,pred[-6:-1,:,ind].ravel())\n",
    "plt.show()"
   ]
  },
  {
   "cell_type": "code",
   "execution_count": 30,
   "metadata": {},
   "outputs": [
    {
     "data": {
      "image/png": "[encoded data removed]",
      "text/plain": [
       "<matplotlib.figure.Figure at 0x7fb655264a90>"
      ]
     },
     "metadata": {},
     "output_type": "display_data"
    }
   ],
   "source": [
    "plt.plot(errorPlot[150:])\n",
    "plt.show()"
   ]
  },
  {
   "cell_type": "code",
   "execution_count": 8,
   "metadata": {},
   "outputs": [],
   "source": [
    "model.load_weights('model_weights'+saveNames+'.h5')"
   ]
  },
  {
   "cell_type": "code",
   "execution_count": 9,
   "metadata": {},
   "outputs": [],
   "source": [
    "#validation test dataset - this time compare different brains with each other and look for MSE:\n",
    "# transforms = numpy.genfromtxt('rand_affine_transforms_small_5std_5mu.csv', delimiter=',')\n",
    "i=0\n",
    "p = Path('/nfs01/data/FS_Slim/MCIC') #brains\n",
    "testDirectories = [x for x in p.iterdir() if x.is_dir()]\n",
    "vSize=150 #4 pairs of images\n",
    "inBatch=0\n",
    "evenOdd = True\n",
    "# testThestas=transforms[-(vSize):,3:15:4]\n",
    "# nameString='saved_small_brains_mean5/MCIC-small-test-std5-mu5-64-'\n",
    "while inBatch<vSize:\n",
    "    fname1 = str(testDirectories[i])+'/mri/norm.mgz'\n",
    "    if os.path.isfile(fname1):\n",
    "        scan = numpy.array(nib.load(fname1).get_data())[::4,::4,::4]\n",
    "        if numpy.count_nonzero(scan)!=0: # make sure skull strip is not blank\n",
    "            inBatch+=1\n",
    "            scan=numpy.expand_dims(numpy.expand_dims(scan, axis=0), axis=0)\n",
    "            if evenOdd:\n",
    "                if inBatch==1:\n",
    "                    test2=scan\n",
    "                else:\n",
    "                    test2=numpy.append(test2,scan,axis=0)\n",
    "            else:\n",
    "                if inBatch==2:\n",
    "                    test1=scan\n",
    "                else:\n",
    "                    test1=numpy.append(test1,scan, axis=0)\n",
    "    i+=1\n",
    "    evenOdd = not evenOdd"
   ]
  },
  {
   "cell_type": "code",
   "execution_count": 10,
   "metadata": {},
   "outputs": [],
   "source": [
    "debug_orig=model.predict([test1,test2])\n",
    "debug_orig[:,3:15:4]*=50"
   ]
  },
  {
   "cell_type": "code",
   "execution_count": 11,
   "metadata": {},
   "outputs": [],
   "source": [
    "#test3 is the validation\n",
    "offset = [debug_orig[0,3],debug_orig[0,7],debug_orig[0,11]]\n",
    "test3=numpy.squeeze(affine_transform(test1[0,0],[debug_orig[0,0:3],debug_orig[0,4:7],debug_orig[0,8:11]],offset=offset))[numpy.newaxis]\n",
    "for i in range(1,len(test1)):\n",
    "    offset = [debug_orig[i,3],debug_orig[i,7],debug_orig[i,11]]\n",
    "    test3=numpy.append(test3,numpy.squeeze(affine_transform(test1[i,0],[debug_orig[i,0:3],debug_orig[i,4:7],debug_orig[i,8:11]],offset=offset))[numpy.newaxis],axis=0)\n"
   ]
  },
  {
   "cell_type": "code",
   "execution_count": 20,
   "metadata": {},
   "outputs": [
    {
     "name": "stdout",
     "output_type": "stream",
     "text": [
      "65268210.0\n",
      "45240942.0\n"
     ]
    }
   ],
   "source": [
    "ind=28\n",
    "print(numpy.sum((test1[ind,0].astype('float')-test2[ind,0].astype('float'))**2))\n",
    "print(numpy.sum((test2[ind,0].astype('float')-test3[ind].astype('float'))**2))"
   ]
  },
  {
   "cell_type": "code",
   "execution_count": 12,
   "metadata": {},
   "outputs": [],
   "source": [
    "cumsumOrigGraph=[]\n",
    "cumsumNewGraph=[]\n",
    "for ind in range(75):\n",
    "    cumsumOrigGraph.append(numpy.sum((test1[ind,0].astype('float')-test2[ind,0].astype('float'))**2))\n",
    "    cumsumNewGraph.append(numpy.sum((test2[ind,0].astype('float')-test3[ind].astype('float'))**2))\n",
    "cumsumOrig=sum(cumsumOrigGraph)\n",
    "cumsumNew=sum(cumsumNewGraph)"
   ]
  },
  {
   "cell_type": "code",
   "execution_count": 13,
   "metadata": {},
   "outputs": [
    {
     "name": "stdout",
     "output_type": "stream",
     "text": [
      "-0.162135868499\n"
     ]
    }
   ],
   "source": [
    "print((cumsumNew-cumsumOrig)/cumsumOrig)"
   ]
  },
  {
   "cell_type": "code",
   "execution_count": 15,
   "metadata": {},
   "outputs": [
    {
     "data": {
      "text/plain": [
       "[<matplotlib.lines.Line2D at 0x7f6f983ff4e0>,\n",
       " <matplotlib.lines.Line2D at 0x7f6f983ffd68>]"
      ]
     },
     "execution_count": 15,
     "metadata": {},
     "output_type": "execute_result"
    },
    {
     "data": {
      "image/png": "[encoded data removed]",
      "text/plain": [
       "<matplotlib.figure.Figure at 0x7f6f98371ac8>"
      ]
     },
     "metadata": {},
     "output_type": "display_data"
    }
   ],
   "source": [
    "plt.plot(numpy.arange(len(cumsumOrigGraph)),cumsumOrigGraph,'r',cumsumNewGraph,'b')"
   ]
  },
  {
   "cell_type": "code",
   "execution_count": 27,
   "metadata": {},
   "outputs": [
    {
     "data": {
      "text/plain": [
       "<matplotlib.colorbar.Colorbar at 0x7f6f68168908>"
      ]
     },
     "execution_count": 27,
     "metadata": {},
     "output_type": "execute_result"
    },
    {
     "data": {
      "image/png": "[encoded data removed]",
      "text/plain": [
       "<matplotlib.figure.Figure at 0x7f6f68727ac8>"
      ]
     },
     "metadata": {},
     "output_type": "display_data"
    }
   ],
   "source": [
    "ind=28\n",
    "zCoord = 40\n",
    "plt.figure(dpi=150)\n",
    "plt.subplot(121)\n",
    "plt.imshow(test2[ind,0,zCoord].astype('float')-test1[ind,0,zCoord].astype('float'))\n",
    "plt.colorbar()\n",
    "plt.subplot(122)\n",
    "plt.imshow(test2[ind,0,zCoord].astype('float')-test3[ind,zCoord].astype('float'))\n",
    "plt.colorbar()"
   ]
  },
  {
   "cell_type": "code",
   "execution_count": null,
   "metadata": {},
   "outputs": [],
   "source": []
  }
 ],
 "metadata": {
  "kernelspec": {
   "display_name": "Python 3",
   "language": "python",
   "name": "python3"
  },
  "language_info": {
   "codemirror_mode": {
    "name": "ipython",
    "version": 3
   },
   "file_extension": ".py",
   "mimetype": "text/x-python",
   "name": "python",
   "nbconvert_exporter": "python",
   "pygments_lexer": "ipython3",
   "version": "3.5.3"
  }
 },
 "nbformat": 4,
 "nbformat_minor": 2
}
